{
 "cells": [
  {
   "cell_type": "markdown",
   "id": "5f3679de-6277-4d41-b16c-b57d2263eac9",
   "metadata": {},
   "source": [
    "# ***22'Feb Pandas assignment***"
   ]
  },
  {
   "cell_type": "markdown",
   "id": "0e508b0c-a39f-4644-8984-7fefc61ffed5",
   "metadata": {},
   "source": [
    "# Q1. Create a Pandas Series that contains the following data: 4, 8, 15, 16, 23, and 42. Then, print the series."
   ]
  },
  {
   "cell_type": "code",
   "execution_count": 5,
   "id": "da429dc4-bbc3-4788-9cef-d275613c0702",
   "metadata": {},
   "outputs": [
    {
     "name": "stdout",
     "output_type": "stream",
     "text": [
      "0     4\n",
      "1     8\n",
      "2    15\n",
      "3    16\n",
      "4    23\n",
      "5    42\n",
      "dtype: int64\n"
     ]
    }
   ],
   "source": [
    "import pandas as pd\n",
    "\n",
    "data = [4, 8, 15, 16, 23, 42]\n",
    "series = pd.Series(data)\n",
    "\n",
    "print(series)\n"
   ]
  },
  {
   "cell_type": "markdown",
   "id": "a7074d09-8db0-48c0-ad39-c2727d9f7d62",
   "metadata": {},
   "source": [
    "# Q2. Create a variable of list type containing 10 elements in it, and apply pandas.Series function on the variable print it."
   ]
  },
  {
   "cell_type": "code",
   "execution_count": 6,
   "id": "18c9b955-4024-4176-9cba-a9b2294a9102",
   "metadata": {},
   "outputs": [
    {
     "name": "stdout",
     "output_type": "stream",
     "text": [
      "0     1\n",
      "1     2\n",
      "2     3\n",
      "3     4\n",
      "4     5\n",
      "5     6\n",
      "6     7\n",
      "7     8\n",
      "8     9\n",
      "9    10\n",
      "dtype: int64\n"
     ]
    }
   ],
   "source": [
    "import pandas as pd\n",
    "\n",
    "my_list = [1, 2, 3, 4, 5, 6, 7, 8, 9, 10]\n",
    "series = pd.Series(my_list)\n",
    "\n",
    "print(series)\n"
   ]
  },
  {
   "cell_type": "markdown",
   "id": "87a3a153-4b19-43fe-b471-7f71080aac52",
   "metadata": {},
   "source": [
    "# Q3. Create a Pandas DataFrame that contains the following data:"
   ]
  },
  {
   "cell_type": "raw",
   "id": "55788049-8d5e-4efe-bead-0495845233f8",
   "metadata": {},
   "source": [
    "Name = Alice , Bob ,  Claire \n",
    "Age = 25 , 30  , 27 \n",
    "Gender = Female , male , Female "
   ]
  },
  {
   "cell_type": "code",
   "execution_count": 8,
   "id": "6b59617d-3a6e-4172-85c5-4f69ddec7165",
   "metadata": {},
   "outputs": [
    {
     "name": "stdout",
     "output_type": "stream",
     "text": [
      "     Name  Age  Gender\n",
      "0   Alice   25  Female\n",
      "1     Bob   30    Male\n",
      "2  Claire   27  Female\n"
     ]
    }
   ],
   "source": [
    "import pandas as pd\n",
    "\n",
    "data = {\n",
    "    'Name': ['Alice', 'Bob', 'Claire'],\n",
    "    'Age': [25, 30, 27],\n",
    "    'Gender': ['Female', 'Male', 'Female']\n",
    "}\n",
    "\n",
    "df = pd.DataFrame(data)\n",
    "\n",
    "print(df)\n"
   ]
  },
  {
   "cell_type": "markdown",
   "id": "576412aa-7aa1-4e14-b137-6a564d98fcc7",
   "metadata": {},
   "source": [
    "# Q4. What is ‘DataFrame’ in pandas and how is it different from pandas.series? Explain with an example."
   ]
  },
  {
   "cell_type": "markdown",
   "id": "3fc3ecc3-1452-4c18-97a0-3cb2f6048e42",
   "metadata": {},
   "source": [
    "|                     | DataFrame                                         | pandas.Series                                     |\n",
    "|---------------------|--------------------------------------------------|--------------------------------------------------|\n",
    "| **What is it?**     | A DataFrame is like a table with rows and columns. | A pandas.Series is like a single column of data.  |\n",
    "| **Structure**       | It's two-dimensional, making it suitable for structured data. | It's one-dimensional, ideal for working with a single dimension of data. |\n",
    "| **Data Types**      | Each column in a DataFrame can have different data types. | A pandas.Series can hold data of any type.       |\n",
    "| **Common Use Cases**| DataFrames are used for tasks like data manipulation and analysis. | Series are often used when you need to work with a single attribute or column of data. |\n",
    "| **Flexibility**     | DataFrames provide a flexible way to handle structured data. | Series are valuable for operations on a single data dimension. |\n"
   ]
  },
  {
   "cell_type": "markdown",
   "id": "ef743358-aa62-4c85-8423-9fc5c5ceff67",
   "metadata": {},
   "source": [
    " ***Example***\n",
    " \n",
    "- **Suppose we have data related to student information, including their names, ages, and grades. We can represent this data using both a DataFrame and Series.**\n",
    "\n",
    "- **Using a DataFrame:**"
   ]
  },
  {
   "cell_type": "code",
   "execution_count": 33,
   "id": "08fbe16b-b8f1-4257-8cfc-747b6855f6f6",
   "metadata": {},
   "outputs": [
    {
     "data": {
      "text/html": [
       "<div>\n",
       "<style scoped>\n",
       "    .dataframe tbody tr th:only-of-type {\n",
       "        vertical-align: middle;\n",
       "    }\n",
       "\n",
       "    .dataframe tbody tr th {\n",
       "        vertical-align: top;\n",
       "    }\n",
       "\n",
       "    .dataframe thead th {\n",
       "        text-align: right;\n",
       "    }\n",
       "</style>\n",
       "<table border=\"1\" class=\"dataframe\">\n",
       "  <thead>\n",
       "    <tr style=\"text-align: right;\">\n",
       "      <th></th>\n",
       "      <th>Name</th>\n",
       "      <th>Age</th>\n",
       "      <th>Grade</th>\n",
       "    </tr>\n",
       "  </thead>\n",
       "  <tbody>\n",
       "    <tr>\n",
       "      <th>0</th>\n",
       "      <td>Alice</td>\n",
       "      <td>25</td>\n",
       "      <td>85</td>\n",
       "    </tr>\n",
       "    <tr>\n",
       "      <th>1</th>\n",
       "      <td>Bob</td>\n",
       "      <td>30</td>\n",
       "      <td>92</td>\n",
       "    </tr>\n",
       "    <tr>\n",
       "      <th>2</th>\n",
       "      <td>Claire</td>\n",
       "      <td>27</td>\n",
       "      <td>78</td>\n",
       "    </tr>\n",
       "  </tbody>\n",
       "</table>\n",
       "</div>"
      ],
      "text/plain": [
       "     Name  Age  Grade\n",
       "0   Alice   25     85\n",
       "1     Bob   30     92\n",
       "2  Claire   27     78"
      ]
     },
     "execution_count": 33,
     "metadata": {},
     "output_type": "execute_result"
    }
   ],
   "source": [
    "import pandas as pd\n",
    "\n",
    "data = {\n",
    "    'Name': ['Alice', 'Bob', 'Claire'],\n",
    "    'Age': [25, 30, 27],\n",
    "    'Grade': [85, 92, 78]\n",
    "}\n",
    "\n",
    "df = pd.DataFrame(data)\n",
    "df\n",
    "\n",
    "# The 'df' DataFrame represents a structured table with rows and columns.\n"
   ]
  },
  {
   "cell_type": "markdown",
   "id": "973f18c7-816c-46fd-bd98-654600a4c0f5",
   "metadata": {},
   "source": [
    "- **Using a Series**"
   ]
  },
  {
   "cell_type": "code",
   "execution_count": 36,
   "id": "89a0e278-e040-4ee6-8738-d95512a794ff",
   "metadata": {},
   "outputs": [
    {
     "name": "stdout",
     "output_type": "stream",
     "text": [
      "Names:\n",
      "0     Alice\n",
      "1       Bob\n",
      "2    Claire\n",
      "Name: Name, dtype: object\n",
      "\n",
      "Ages:\n",
      "0    25\n",
      "1    30\n",
      "2    27\n",
      "Name: Age, dtype: int64\n",
      "\n",
      "Grades:\n",
      "0    85\n",
      "1    92\n",
      "2    78\n",
      "Name: Grade, dtype: int64\n"
     ]
    }
   ],
   "source": [
    "import pandas as pd\n",
    "\n",
    "# Create Series for 'names', 'ages', and 'grades'\n",
    "names = pd.Series(['Alice', 'Bob', 'Claire'], name='Name')\n",
    "ages = pd.Series([25, 30, 27], name='Age')\n",
    "grades = pd.Series([85, 92, 78], name='Grade')\n",
    "\n",
    "# Print the Series\n",
    "print(\"Names:\")\n",
    "print(names)\n",
    "print(\"\\nAges:\")\n",
    "print(ages)\n",
    "print(\"\\nGrades:\")\n",
    "print(grades)\n"
   ]
  },
  {
   "cell_type": "markdown",
   "id": "2d9ee89d-8179-4405-bc5b-edbbc85f79d7",
   "metadata": {},
   "source": [
    "# Q5. What are some common functions you can use to manipulate data in a Pandas DataFrame? Can you give an example of when you might use one of these functions?"
   ]
  },
  {
   "cell_type": "markdown",
   "id": "02ccf693-ec23-4c00-b077-b00331044fd2",
   "metadata": {},
   "source": [
    "| Operation                      | Function/Method                      | Description                                                           | Example Usage                                    |\n",
    "|---------------------------------|-------------------------------------|-----------------------------------------------------------------------|-------------------------------------------------|\n",
    "| **Selection and Filtering**    | `df[columns]` or `df.loc[]`         | Select specific columns or rows.                                     | `df[['Name', 'Age']]` or `df.loc[df['Age'] > 25]` |\n",
    "|                                | `df[df['column'] > value]`          | Filter rows based on a condition.                                    | `df[df['Category'] == 'Electronics']`           |\n",
    "|                                | `df.query('expression')`            | Filter rows using a query expression.                                | `df.query('Price > 100')`                        |\n",
    "| **Sorting**                    | `df.sort_values(by='column')`        | Sort the DataFrame by one or more columns.                           | `df.sort_values(by='Date')`                      |\n",
    "|                                | `df.sort_index()`                   | Sort the DataFrame by its index.                                     | `df.sort_index(ascending=False)`                |\n",
    "| **Aggregation and Grouping**    | `df.groupby('column').agg(func)`    | Perform aggregation operations on grouped data.                       | `df.groupby('Category').agg({'Price': 'mean'})` |\n",
    "|                                | `df.pivot_table()`                  | Create a pivot table to summarize data.                               | `df.pivot_table(index='Month', values='Revenue', aggfunc='sum')` |\n",
    "| **Data Cleaning**              | `df.drop(columns=['column'])`       | Remove unnecessary columns.                                          | `df.drop(columns=['Notes'])`                   |\n",
    "|                                | `df.fillna(value)`                  | Fill missing values.                                                | `df.fillna(0)`                                 |\n",
    "|                                | `df.drop_duplicates()`              | Remove duplicate rows.                                              | `df.drop_duplicates(subset='Email')`             |\n",
    "| **Merging and Joining DataFrames** | `pd.concat([df1, df2])`           | Concatenate DataFrames vertically or horizontally.                 | `pd.concat([df1, df2])`                       |\n",
    "|                                | `df1.merge(df2, on='key_column', how='inner')` | Merge two DataFrames based on a common key column. | `df1.merge(df2, on='CustomerID', how='inner')`  |\n",
    "| **Reshaping and Pivoting Data**  | `df.melt()`                        | Reshape data from wide to long format.                               | `df.melt(id_vars=['ID'], value_vars=['Q1', 'Q2', 'Q3'])` |\n",
    "|                                | `pd.crosstab()`                    | Create a cross-tabulation table.                                    | `pd.crosstab(index=df['Category'], columns=df['Region'])` |\n",
    "| **Applying Custom Functions**   | `df.apply(func)`                   | Apply a custom function to each row or column.                       | `df['Total'] = df.apply(lambda row: row['Quantity'] * row['Price'], axis=1)` |\n",
    "|                                | `df.transform(func)`               | Transform data using a custom function.                              | `df['Scaled_Amount'] = df.transform(lambda x: (x - x.mean()) / x.std())` |\n"
   ]
  },
  {
   "cell_type": "markdown",
   "id": "aa46594a-b597-4d9f-a35f-9e10ec5c470a",
   "metadata": {},
   "source": [
    "# Q6. Which of the following is mutable in nature Series, DataFrame, Panel?"
   ]
  },
  {
   "cell_type": "markdown",
   "id": "416dfce7-ce0b-404e-8f6b-47cc5f143320",
   "metadata": {},
   "source": [
    "| Data Structure | Mutable (Yes/No) | Description                                    |\n",
    "|----------------|-------------------|------------------------------------------------|\n",
    "| Series         | Yes               | A one-dimensional labeled array in Pandas. You can change the values within a Series after it is created. |\n",
    "| DataFrame      | Yes               | A two-dimensional tabular data structure in Pandas. You can modify the data, add or remove columns, and perform various data manipulation operations on a DataFrame. |\n",
    "| Panel          | No                | A data structure in Pandas that was used to handle three-dimensional data. However, as of Pandas version 0.25.0, the Panel data structure has been removed from the library and is no longer available. |\n"
   ]
  },
  {
   "cell_type": "markdown",
   "id": "c4da10b6-b4e1-4508-aa4b-4d31ec901bac",
   "metadata": {},
   "source": [
    "# Q7. Create a DataFrame using multiple Series. Explain with an example."
   ]
  },
  {
   "cell_type": "code",
   "execution_count": 37,
   "id": "657166e1-7225-45dc-91f3-5e5d057f2967",
   "metadata": {},
   "outputs": [
    {
     "name": "stdout",
     "output_type": "stream",
     "text": [
      "     Name  Age  Grade\n",
      "0   Alice   25     85\n",
      "1     Bob   30     92\n",
      "2  Claire   27     78\n"
     ]
    }
   ],
   "source": [
    "import pandas as pd\n",
    "\n",
    "# Create multiple Series\n",
    "names = pd.Series(['Alice', 'Bob', 'Claire'])\n",
    "ages = pd.Series([25, 30, 27])\n",
    "grades = pd.Series([85, 92, 78])\n",
    "\n",
    "# Create a DataFrame using the Series\n",
    "data = {\n",
    "    'Name': names,\n",
    "    'Age': ages,\n",
    "    'Grade': grades\n",
    "}\n",
    "\n",
    "df = pd.DataFrame(data)\n",
    "\n",
    "# Print the resulting DataFrame\n",
    "print(df)\n"
   ]
  },
  {
   "cell_type": "markdown",
   "id": "955292cd-7133-458f-b822-2e7cf3682241",
   "metadata": {},
   "source": [
    "# <<<<<<<<<<<<<< Complete >>>>>>>>>>>>>>"
   ]
  }
 ],
 "metadata": {
  "kernelspec": {
   "display_name": "Python 3 (ipykernel)",
   "language": "python",
   "name": "python3"
  },
  "language_info": {
   "codemirror_mode": {
    "name": "ipython",
    "version": 3
   },
   "file_extension": ".py",
   "mimetype": "text/x-python",
   "name": "python",
   "nbconvert_exporter": "python",
   "pygments_lexer": "ipython3",
   "version": "3.10.6"
  },
  "toc-autonumbering": false,
  "toc-showcode": false,
  "toc-showmarkdowntxt": false,
  "toc-showtags": false
 },
 "nbformat": 4,
 "nbformat_minor": 5
}
