{
 "cells": [
  {
   "cell_type": "markdown",
   "id": "dba697ab-ac7c-4f67-8111-e7fcfc9a42cf",
   "metadata": {},
   "source": [
    "# Consider the below code to answer further questions:\n",
    "- **import numpy as np**\n",
    "- **list_** = **[ ‘1’ , ’2’ , ‘3’ , ‘4’ , ‘5’ ]**\n",
    "- **array_list = np.array(object = list_)**\n",
    "#  Q1. Is there any difference in the data type of variables list_ and array_list? If there is then write a code to print the data types of both the variables."
   ]
  },
  {
   "cell_type": "markdown",
   "id": "f1067eab-d486-4ea0-b578-3b249ed4cd44",
   "metadata": {},
   "source": [
    "- ***Yes, there is a difference in the data types of the variables list_ and array_list. The variable list_ is a Python list, whereas array_list is a NumPy array.***"
   ]
  },
  {
   "cell_type": "code",
   "execution_count": 2,
   "id": "6e233b57-99f9-438d-8151-e24cba36184a",
   "metadata": {},
   "outputs": [
    {
     "name": "stdout",
     "output_type": "stream",
     "text": [
      "Data type of list_: <class 'list'>\n",
      "Data type of array_list: <class 'numpy.ndarray'>\n"
     ]
    }
   ],
   "source": [
    "import numpy as np\n",
    "\n",
    "list_ = ['1', '2', '3', '4', '5']\n",
    "array_list = np.array(object=list_)\n",
    "\n",
    "print(\"Data type of list_:\", type(list_))\n",
    "print(\"Data type of array_list:\", type(array_list))\n"
   ]
  },
  {
   "cell_type": "markdown",
   "id": "e7d371dd-d61b-424d-9a46-90cab413571e",
   "metadata": {},
   "source": [
    "## Q2. Write a code to print the data type of each and every element of both the variables list_ and arra_list."
   ]
  },
  {
   "cell_type": "code",
   "execution_count": 3,
   "id": "3118b5de-589c-4544-8687-0c7bd391c406",
   "metadata": {},
   "outputs": [
    {
     "name": "stdout",
     "output_type": "stream",
     "text": [
      "Data types of elements in list_:\n",
      "<class 'str'>\n",
      "<class 'str'>\n",
      "<class 'str'>\n",
      "<class 'str'>\n",
      "<class 'str'>\n",
      "\n",
      "Data types of elements in array_list:\n",
      "<class 'numpy.str_'>\n",
      "<class 'numpy.str_'>\n",
      "<class 'numpy.str_'>\n",
      "<class 'numpy.str_'>\n",
      "<class 'numpy.str_'>\n"
     ]
    }
   ],
   "source": [
    "import numpy as np\n",
    "\n",
    "list_ = ['1', '2', '3', '4', '5']\n",
    "array_list = np.array(object=list_)\n",
    "\n",
    "print(\"Data types of elements in list_:\")\n",
    "for elem in list_:\n",
    "    print(type(elem))\n",
    "\n",
    "print(\"\\nData types of elements in array_list:\")\n",
    "for elem in array_list:\n",
    "    print(type(elem))\n"
   ]
  },
  {
   "cell_type": "markdown",
   "id": "25eac667-2de4-4dfa-96dd-a3836115f120",
   "metadata": {},
   "source": [
    "# Q3. Considering the following changes in the variable, array_list:\n",
    "- array_list = np.array(object = list_, dtype = int)\n",
    "- Will there be any difference in the data type of the elements present in both the variables, list_ and arra_list? If so then print the data types of each and every element present in both the variables, list_ and arra_list."
   ]
  },
  {
   "cell_type": "code",
   "execution_count": 4,
   "id": "3f81f830-7698-4383-8881-2d8d08f7f9f5",
   "metadata": {},
   "outputs": [
    {
     "name": "stdout",
     "output_type": "stream",
     "text": [
      "Data types of elements in list_:\n",
      "<class 'str'>\n",
      "<class 'str'>\n",
      "<class 'str'>\n",
      "<class 'str'>\n",
      "<class 'str'>\n",
      "\n",
      "Data types of elements in array_list:\n",
      "<class 'numpy.int64'>\n",
      "<class 'numpy.int64'>\n",
      "<class 'numpy.int64'>\n",
      "<class 'numpy.int64'>\n",
      "<class 'numpy.int64'>\n"
     ]
    }
   ],
   "source": [
    "import numpy as np\n",
    "\n",
    "list_ = ['1', '2', '3', '4', '5']\n",
    "array_list = np.array(object=list_, dtype=int)\n",
    "\n",
    "print(\"Data types of elements in list_:\")\n",
    "for elem in list_:\n",
    "    print(type(elem))\n",
    "\n",
    "print(\"\\nData types of elements in array_list:\")\n",
    "for elem in array_list:\n",
    "    print(type(elem))\n"
   ]
  },
  {
   "cell_type": "markdown",
   "id": "6527f6a5-73bf-4c4c-af82-cf2652325b7e",
   "metadata": {},
   "source": [
    "# Consider the below code to answer further questions:\n",
    "- **import numpy as np**\n",
    "- **num_list = [ [ 1 , 2 , 3 ] , [ 4 , 5 , 6 ] ]**\n",
    "- **num_array = np.array(object = num_list)**\n",
    "# Q4. Write a code to find the following characteristics of variable, num_array:\n",
    "- (i) shape\n",
    "- (ii) size"
   ]
  },
  {
   "cell_type": "code",
   "execution_count": 5,
   "id": "210597c8-cf05-4a84-b310-05903ec748d5",
   "metadata": {},
   "outputs": [
    {
     "name": "stdout",
     "output_type": "stream",
     "text": [
      "Shape of num_array: (2, 3)\n",
      "Size of num_array: 6\n"
     ]
    }
   ],
   "source": [
    "import numpy as np\n",
    "\n",
    "num_list = [[1, 2, 3], [4, 5, 6]]\n",
    "num_array = np.array(object=num_list)\n",
    "\n",
    "# (i) Shape\n",
    "print(\"Shape of num_array:\", num_array.shape)\n",
    "\n",
    "# (ii) Size\n",
    "print(\"Size of num_array:\", num_array.size)\n"
   ]
  },
  {
   "cell_type": "markdown",
   "id": "bfce9630-ead3-4fbe-8e16-7dbeefaa2308",
   "metadata": {},
   "source": [
    "# Q5. Write a code to create numpy array of 3*3 matrix containing zeros only, using a numpy array creation function."
   ]
  },
  {
   "cell_type": "code",
   "execution_count": 6,
   "id": "f9947193-7c24-49ba-aaae-7082990c9fa0",
   "metadata": {},
   "outputs": [
    {
     "name": "stdout",
     "output_type": "stream",
     "text": [
      "Array of zeros:\n",
      "[[0. 0. 0.]\n",
      " [0. 0. 0.]\n",
      " [0. 0. 0.]]\n"
     ]
    }
   ],
   "source": [
    "import numpy as np\n",
    "\n",
    "zeros_array = np.zeros((3, 3))\n",
    "\n",
    "print(\"Array of zeros:\")\n",
    "print(zeros_array)\n"
   ]
  },
  {
   "cell_type": "markdown",
   "id": "b04bb6fb-ce68-4bfc-846b-6738dc90c69b",
   "metadata": {},
   "source": [
    "## Q6. Create an identity matrix of shape (5,5) using numpy functions?\n",
    "[Hint: An identity matrix is a matrix containing 1 diagonally and other elements will be 0.]"
   ]
  },
  {
   "cell_type": "code",
   "execution_count": 7,
   "id": "6f99af61-cfa8-4f8d-adca-dd763fbf0df5",
   "metadata": {},
   "outputs": [
    {
     "name": "stdout",
     "output_type": "stream",
     "text": [
      "Identity matrix:\n",
      "[[1. 0. 0. 0. 0.]\n",
      " [0. 1. 0. 0. 0.]\n",
      " [0. 0. 1. 0. 0.]\n",
      " [0. 0. 0. 1. 0.]\n",
      " [0. 0. 0. 0. 1.]]\n"
     ]
    }
   ],
   "source": [
    "import numpy as np\n",
    "\n",
    "identity_matrix = np.eye(5)\n",
    "\n",
    "print(\"Identity matrix:\")\n",
    "print(identity_matrix)\n"
   ]
  },
  {
   "cell_type": "markdown",
   "id": "213a9738-e24a-44ee-9556-93872ed112a7",
   "metadata": {},
   "source": [
    "# <<<<<<<<<<<<<< Completed >>>>>>>>>>>>>"
   ]
  }
 ],
 "metadata": {
  "kernelspec": {
   "display_name": "Python 3 (ipykernel)",
   "language": "python",
   "name": "python3"
  },
  "language_info": {
   "codemirror_mode": {
    "name": "ipython",
    "version": 3
   },
   "file_extension": ".py",
   "mimetype": "text/x-python",
   "name": "python",
   "nbconvert_exporter": "python",
   "pygments_lexer": "ipython3",
   "version": "3.10.8"
  }
 },
 "nbformat": 4,
 "nbformat_minor": 5
}
